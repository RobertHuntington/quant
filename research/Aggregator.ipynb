{
 "cells": [
  {
   "cell_type": "code",
   "execution_count": 10,
   "metadata": {},
   "outputs": [
    {
     "name": "stdout",
     "output_type": "stream",
     "text": [
      "Requirement already satisfied: tables in /usr/local/lib/python3.6/site-packages (3.5.1)\r\n",
      "Requirement already satisfied: numexpr>=2.6.2 in /usr/local/lib/python3.6/site-packages (from tables) (2.6.9)\r\n",
      "Requirement already satisfied: six>=1.9.0 in /usr/local/lib/python3.6/site-packages (from tables) (1.11.0)\r\n",
      "Requirement already satisfied: numpy>=1.9.3 in /usr/local/lib/python3.6/site-packages (from tables) (1.15.4)\r\n",
      "Requirement already satisfied: mock>=2.0 in /usr/local/lib/python3.6/site-packages (from tables) (2.0.0)\r\n",
      "Requirement already satisfied: pbr>=0.11 in /usr/local/lib/python3.6/site-packages (from mock>=2.0->tables) (5.1.3)\r\n"
     ]
    }
   ],
   "source": [
    "import sys\n",
    "!{sys.executable} -m pip install tables\n",
    "\n",
    "import os\n",
    "from populator import aggregate_data\n",
    "\n",
    "data_dir = 'data'\n",
    "exchange = 'test'\n",
    "write_csv = False\n",
    "write_hdf = True\n",
    "# Intervals other than '1Min' over which to downsample data and store on disk\n",
    "downsampling_intervals = ['5Min', '15Min', '1h', '1d']"
   ]
  },
  {
   "cell_type": "code",
   "execution_count": 11,
   "metadata": {},
   "outputs": [
    {
     "name": "stdout",
     "output_type": "stream",
     "text": [
      "Found following pairs for exchange test: ['EOS/BNB', '.DS_Store', 'NEO/BNB', 'AE/BNB']\n"
     ]
    }
   ],
   "source": [
    "pairs = []\n",
    "for filename in os.listdir(os.path.join(data_dir, exchange)):\n",
    "    currencies = filename.split('-')[:2]\n",
    "    pairs.append('/'.join(currencies))\n",
    "print('Found following pairs for exchange {}: {}'.format(exchange, pairs))"
   ]
  },
  {
   "cell_type": "code",
   "execution_count": 12,
   "metadata": {},
   "outputs": [
    {
     "name": "stdout",
     "output_type": "stream",
     "text": [
      "Loaded pair EOS/BNB on test (2018-05-28 05:00:00 to 2019-03-14 00:17:00)\n",
      "WARNING: Data for .DS_Store on test does not exist.\n",
      "Loaded pair NEO/BNB on test (2017-11-20 03:41:00 to 2019-03-14 00:17:00)\n",
      "Loaded pair AE/BNB on test (2018-02-07 11:59:00 to 2019-03-14 00:17:00)\n",
      "Assembled aggregate dataframe\n"
     ]
    }
   ],
   "source": [
    "df_1m = aggregate_data('data', {exchange: pairs}, '1m', '2000-01-01T00:00:00Z')\n",
    "print('Assembled aggregate dataframe')"
   ]
  },
  {
   "cell_type": "code",
   "execution_count": 13,
   "metadata": {},
   "outputs": [
    {
     "data": {
      "text/html": [
       "<div>\n",
       "<style scoped>\n",
       "    .dataframe tbody tr th:only-of-type {\n",
       "        vertical-align: middle;\n",
       "    }\n",
       "\n",
       "    .dataframe tbody tr th {\n",
       "        vertical-align: top;\n",
       "    }\n",
       "\n",
       "    .dataframe thead th {\n",
       "        text-align: right;\n",
       "    }\n",
       "</style>\n",
       "<table border=\"1\" class=\"dataframe\">\n",
       "  <thead>\n",
       "    <tr style=\"text-align: right;\">\n",
       "      <th></th>\n",
       "      <th>open_test_EOS_BNB</th>\n",
       "      <th>high_test_EOS_BNB</th>\n",
       "      <th>low_test_EOS_BNB</th>\n",
       "      <th>close_test_EOS_BNB</th>\n",
       "      <th>volume_test_EOS_BNB</th>\n",
       "      <th>open_test_NEO_BNB</th>\n",
       "      <th>high_test_NEO_BNB</th>\n",
       "      <th>low_test_NEO_BNB</th>\n",
       "      <th>close_test_NEO_BNB</th>\n",
       "      <th>volume_test_NEO_BNB</th>\n",
       "      <th>open_test_AE_BNB</th>\n",
       "      <th>high_test_AE_BNB</th>\n",
       "      <th>low_test_AE_BNB</th>\n",
       "      <th>close_test_AE_BNB</th>\n",
       "      <th>volume_test_AE_BNB</th>\n",
       "    </tr>\n",
       "    <tr>\n",
       "      <th>timestamp</th>\n",
       "      <th></th>\n",
       "      <th></th>\n",
       "      <th></th>\n",
       "      <th></th>\n",
       "      <th></th>\n",
       "      <th></th>\n",
       "      <th></th>\n",
       "      <th></th>\n",
       "      <th></th>\n",
       "      <th></th>\n",
       "      <th></th>\n",
       "      <th></th>\n",
       "      <th></th>\n",
       "      <th></th>\n",
       "      <th></th>\n",
       "    </tr>\n",
       "  </thead>\n",
       "  <tbody>\n",
       "    <tr>\n",
       "      <th>2017-11-20 03:41:00</th>\n",
       "      <td>NaN</td>\n",
       "      <td>NaN</td>\n",
       "      <td>NaN</td>\n",
       "      <td>NaN</td>\n",
       "      <td>NaN</td>\n",
       "      <td>24.0</td>\n",
       "      <td>24.0</td>\n",
       "      <td>24.0</td>\n",
       "      <td>24.0</td>\n",
       "      <td>0.500</td>\n",
       "      <td>NaN</td>\n",
       "      <td>NaN</td>\n",
       "      <td>NaN</td>\n",
       "      <td>NaN</td>\n",
       "      <td>NaN</td>\n",
       "    </tr>\n",
       "    <tr>\n",
       "      <th>2017-11-20 03:42:00</th>\n",
       "      <td>NaN</td>\n",
       "      <td>NaN</td>\n",
       "      <td>NaN</td>\n",
       "      <td>NaN</td>\n",
       "      <td>NaN</td>\n",
       "      <td>24.0</td>\n",
       "      <td>24.0</td>\n",
       "      <td>24.0</td>\n",
       "      <td>24.0</td>\n",
       "      <td>0.000</td>\n",
       "      <td>NaN</td>\n",
       "      <td>NaN</td>\n",
       "      <td>NaN</td>\n",
       "      <td>NaN</td>\n",
       "      <td>NaN</td>\n",
       "    </tr>\n",
       "    <tr>\n",
       "      <th>2017-11-20 03:43:00</th>\n",
       "      <td>NaN</td>\n",
       "      <td>NaN</td>\n",
       "      <td>NaN</td>\n",
       "      <td>NaN</td>\n",
       "      <td>NaN</td>\n",
       "      <td>100.0</td>\n",
       "      <td>100.0</td>\n",
       "      <td>100.0</td>\n",
       "      <td>100.0</td>\n",
       "      <td>4.166</td>\n",
       "      <td>NaN</td>\n",
       "      <td>NaN</td>\n",
       "      <td>NaN</td>\n",
       "      <td>NaN</td>\n",
       "      <td>NaN</td>\n",
       "    </tr>\n",
       "    <tr>\n",
       "      <th>2017-11-20 03:44:00</th>\n",
       "      <td>NaN</td>\n",
       "      <td>NaN</td>\n",
       "      <td>NaN</td>\n",
       "      <td>NaN</td>\n",
       "      <td>NaN</td>\n",
       "      <td>100.0</td>\n",
       "      <td>100.0</td>\n",
       "      <td>100.0</td>\n",
       "      <td>100.0</td>\n",
       "      <td>0.000</td>\n",
       "      <td>NaN</td>\n",
       "      <td>NaN</td>\n",
       "      <td>NaN</td>\n",
       "      <td>NaN</td>\n",
       "      <td>NaN</td>\n",
       "    </tr>\n",
       "    <tr>\n",
       "      <th>2017-11-20 03:45:00</th>\n",
       "      <td>NaN</td>\n",
       "      <td>NaN</td>\n",
       "      <td>NaN</td>\n",
       "      <td>NaN</td>\n",
       "      <td>NaN</td>\n",
       "      <td>69.0</td>\n",
       "      <td>69.0</td>\n",
       "      <td>69.0</td>\n",
       "      <td>69.0</td>\n",
       "      <td>9.250</td>\n",
       "      <td>NaN</td>\n",
       "      <td>NaN</td>\n",
       "      <td>NaN</td>\n",
       "      <td>NaN</td>\n",
       "      <td>NaN</td>\n",
       "    </tr>\n",
       "  </tbody>\n",
       "</table>\n",
       "</div>"
      ],
      "text/plain": [
       "                     open_test_EOS_BNB  high_test_EOS_BNB  low_test_EOS_BNB  \\\n",
       "timestamp                                                                     \n",
       "2017-11-20 03:41:00                NaN                NaN               NaN   \n",
       "2017-11-20 03:42:00                NaN                NaN               NaN   \n",
       "2017-11-20 03:43:00                NaN                NaN               NaN   \n",
       "2017-11-20 03:44:00                NaN                NaN               NaN   \n",
       "2017-11-20 03:45:00                NaN                NaN               NaN   \n",
       "\n",
       "                     close_test_EOS_BNB  volume_test_EOS_BNB  \\\n",
       "timestamp                                                      \n",
       "2017-11-20 03:41:00                 NaN                  NaN   \n",
       "2017-11-20 03:42:00                 NaN                  NaN   \n",
       "2017-11-20 03:43:00                 NaN                  NaN   \n",
       "2017-11-20 03:44:00                 NaN                  NaN   \n",
       "2017-11-20 03:45:00                 NaN                  NaN   \n",
       "\n",
       "                     open_test_NEO_BNB  high_test_NEO_BNB  low_test_NEO_BNB  \\\n",
       "timestamp                                                                     \n",
       "2017-11-20 03:41:00               24.0               24.0              24.0   \n",
       "2017-11-20 03:42:00               24.0               24.0              24.0   \n",
       "2017-11-20 03:43:00              100.0              100.0             100.0   \n",
       "2017-11-20 03:44:00              100.0              100.0             100.0   \n",
       "2017-11-20 03:45:00               69.0               69.0              69.0   \n",
       "\n",
       "                     close_test_NEO_BNB  volume_test_NEO_BNB  \\\n",
       "timestamp                                                      \n",
       "2017-11-20 03:41:00                24.0                0.500   \n",
       "2017-11-20 03:42:00                24.0                0.000   \n",
       "2017-11-20 03:43:00               100.0                4.166   \n",
       "2017-11-20 03:44:00               100.0                0.000   \n",
       "2017-11-20 03:45:00                69.0                9.250   \n",
       "\n",
       "                     open_test_AE_BNB  high_test_AE_BNB  low_test_AE_BNB  \\\n",
       "timestamp                                                                  \n",
       "2017-11-20 03:41:00               NaN               NaN              NaN   \n",
       "2017-11-20 03:42:00               NaN               NaN              NaN   \n",
       "2017-11-20 03:43:00               NaN               NaN              NaN   \n",
       "2017-11-20 03:44:00               NaN               NaN              NaN   \n",
       "2017-11-20 03:45:00               NaN               NaN              NaN   \n",
       "\n",
       "                     close_test_AE_BNB  volume_test_AE_BNB  \n",
       "timestamp                                                   \n",
       "2017-11-20 03:41:00                NaN                 NaN  \n",
       "2017-11-20 03:42:00                NaN                 NaN  \n",
       "2017-11-20 03:43:00                NaN                 NaN  \n",
       "2017-11-20 03:44:00                NaN                 NaN  \n",
       "2017-11-20 03:45:00                NaN                 NaN  "
      ]
     },
     "execution_count": 13,
     "metadata": {},
     "output_type": "execute_result"
    }
   ],
   "source": [
    "df_1m.head()"
   ]
  },
  {
   "cell_type": "code",
   "execution_count": 16,
   "metadata": {},
   "outputs": [],
   "source": [
    "import numpy as np\n",
    "\n",
    "def downsample(df, interval):\n",
    "    # Sum over all volumes and average over all prices in each interval\n",
    "    agg_fns = {col: np.sum if col.startswith('volume') else np.mean for col in df}\n",
    "    return df.resample(interval).agg(agg_fns)"
   ]
  },
  {
   "cell_type": "code",
   "execution_count": 17,
   "metadata": {},
   "outputs": [
    {
     "name": "stdout",
     "output_type": "stream",
     "text": [
      "Downsampling test data to 5Min... Done\n",
      "Downsampling test data to 15Min... Done\n",
      "Downsampling test data to 1h... Done\n",
      "Downsampling test data to 1d... Done\n"
     ]
    }
   ],
   "source": [
    "dfs = [(df_1m, '1m')]\n",
    "for interval in downsampling_intervals:\n",
    "    print('Downsampling {} data to {}... '.format(exchange, interval), end='')\n",
    "    df_down = downsample(df_1m, interval)\n",
    "    print('Done')\n",
    "    dfs.append((df_down, interval))"
   ]
  },
  {
   "cell_type": "code",
   "execution_count": 18,
   "metadata": {},
   "outputs": [
    {
     "name": "stdout",
     "output_type": "stream",
     "text": [
      "Wrote data/test/all-1m.h5\n",
      "Wrote data/test/all-5Min.h5\n",
      "Wrote data/test/all-15Min.h5\n",
      "Wrote data/test/all-1h.h5\n",
      "Wrote data/test/all-1d.h5\n"
     ]
    }
   ],
   "source": [
    "for df, interval in dfs:\n",
    "    path_prefix = os.path.join(data_dir, exchange, 'all-' + interval)\n",
    "    if write_csv:\n",
    "        df.to_csv(path_prefix + '.csv', index_label='timestamp')\n",
    "        print('Wrote {}'.format(path_prefix + '.csv'))\n",
    "    if write_hdf:\n",
    "        df.to_hdf(path_prefix + '.h5', key = exchange + '_' + interval, mode='w')\n",
    "        print('Wrote {}'.format(path_prefix + '.h5'))"
   ]
  },
  {
   "cell_type": "code",
   "execution_count": null,
   "metadata": {},
   "outputs": [],
   "source": []
  }
 ],
 "metadata": {
  "kernelspec": {
   "display_name": "Python 3",
   "language": "python",
   "name": "python3"
  },
  "language_info": {
   "codemirror_mode": {
    "name": "ipython",
    "version": 3
   },
   "file_extension": ".py",
   "mimetype": "text/x-python",
   "name": "python",
   "nbconvert_exporter": "python",
   "pygments_lexer": "ipython3",
   "version": "3.6.5"
  }
 },
 "nbformat": 4,
 "nbformat_minor": 2
}
