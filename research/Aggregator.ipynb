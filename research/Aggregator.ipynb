{
 "cells": [
  {
   "cell_type": "code",
   "execution_count": null,
   "metadata": {},
   "outputs": [],
   "source": [
    "import sys\n",
    "!{sys.executable} -m pip install tables\n",
    "\n",
    "import os\n",
    "from populator import aggregate_data\n",
    "\n",
    "data_dir = 'data'\n",
    "exchange = 'test'\n",
    "write_csv = False\n",
    "write_hdf = True\n",
    "# Intervals other than '1Min' over which to downsample data and store on disk\n",
    "downsampling_intervals = ['5Min', '15Min', '1h', '1d']"
   ]
  },
  {
   "cell_type": "code",
   "execution_count": null,
   "metadata": {},
   "outputs": [],
   "source": [
    "pairs = []\n",
    "for filename in os.listdir(os.path.join(data_dir, exchange)):\n",
    "    currencies = filename.split('-')[:2]\n",
    "    pairs.append('/'.join(currencies))\n",
    "print('Found following pairs for exchange {}: {}'.format(exchange, pairs))"
   ]
  },
  {
   "cell_type": "code",
   "execution_count": null,
   "metadata": {},
   "outputs": [],
   "source": [
    "df_1m = aggregate_data('data', {exchange: pairs}, '1m', '2000-01-01T00:00:00Z')\n",
    "print('Assembled aggregate dataframe')"
   ]
  },
  {
   "cell_type": "code",
   "execution_count": null,
   "metadata": {},
   "outputs": [],
   "source": [
    "df_1m.head()"
   ]
  },
  {
   "cell_type": "code",
   "execution_count": null,
   "metadata": {},
   "outputs": [],
   "source": [
    "import numpy as np\n",
    "\n",
    "def downsample(df, interval):\n",
    "    # Sum over all volumes and average over all prices in each interval\n",
    "    agg_fns = {col: np.sum if col.startswith('volume') else np.mean for col in df}\n",
    "    return df.resample(interval).agg(agg_fns)"
   ]
  },
  {
   "cell_type": "code",
   "execution_count": null,
   "metadata": {},
   "outputs": [],
   "source": [
    "dfs = [(df_1m, '1m')]\n",
    "for interval in downsampling_intervals:\n",
    "    print('Downsampling {} data to {}... '.format(exchange, interval), end='')\n",
    "    df_down = downsample(df_1m, interval)\n",
    "    print('Done')\n",
    "    dfs.append((df_down, interval))"
   ]
  },
  {
   "cell_type": "code",
   "execution_count": null,
   "metadata": {},
   "outputs": [],
   "source": [
    "for df, interval in dfs:\n",
    "    path_prefix = os.path.join(data_dir, exchange, 'all-' + interval)\n",
    "    if write_csv:\n",
    "        df.to_csv(path_prefix + '.csv', index_label='timestamp')\n",
    "        print('Wrote {}'.format(path_prefix + '.csv'))\n",
    "    if write_hdf:\n",
    "        df.to_hdf(path_prefix + '.h5', key = exchange + '_' + interval, mode='w')\n",
    "        print('Wrote {}'.format(path_prefix + '.h5'))"
   ]
  },
  {
   "cell_type": "code",
   "execution_count": null,
   "metadata": {},
   "outputs": [],
   "source": []
  }
 ],
 "metadata": {
  "kernelspec": {
   "display_name": "Python 3",
   "language": "python",
   "name": "python3"
  },
  "language_info": {
   "codemirror_mode": {
    "name": "ipython",
    "version": 3
   },
   "file_extension": ".py",
   "mimetype": "text/x-python",
   "name": "python",
   "nbconvert_exporter": "python",
   "pygments_lexer": "ipython3",
   "version": "3.6.5"
  }
 },
 "nbformat": 4,
 "nbformat_minor": 2
}
