{
 "cells": [
  {
   "cell_type": "raw",
   "metadata": {},
   "source": [
    "# Ignore this cell if you have these installed.\n",
    "!pip3 install ccxt\n",
    "!pip3 install pandas\n",
    "!pip3 install backtrader\n",
    "!pip3 install matplotlib"
   ]
  },
  {
   "cell_type": "raw",
   "metadata": {},
   "source": [
    "# Run this if you update the populator.\n",
    "import importlib\n",
    "importlib.reload(populator);"
   ]
  },
  {
   "cell_type": "code",
   "execution_count": null,
   "metadata": {},
   "outputs": [],
   "source": [
    "import populator"
   ]
  },
  {
   "cell_type": "code",
   "execution_count": null,
   "metadata": {},
   "outputs": [],
   "source": [
    "data_dir = 'data'\n",
    "# Second item in tuple is max batch size for requests.\n",
    "exchanges = [('binance', 1000), ('bitmex', 200)]\n",
    "pairs = ['BTC/USDT', 'ETH/USDT', 'BTC/USD', 'ETH/USD']\n",
    "tick_size = '1m'\n",
    "start = '2018-01-01T00:00:00Z'\n",
    "num_ticks = -1"
   ]
  },
  {
   "cell_type": "code",
   "execution_count": null,
   "metadata": {},
   "outputs": [],
   "source": [
    "populator.populate(data_dir, exchanges, pairs, tick_size, start)"
   ]
  },
  {
   "cell_type": "code",
   "execution_count": null,
   "metadata": {},
   "outputs": [],
   "source": [
    "import pandas"
   ]
  },
  {
   "cell_type": "code",
   "execution_count": null,
   "metadata": {},
   "outputs": [],
   "source": [
    "btc_usdt_path = populator.get_data_path(data_dir, 'binance', 'BTC/USDT', tick_size, start, num_ticks)\n",
    "btc_usdt_frame = pandas.read_csv(btc_usdt_path, index_col=0)\n",
    "btc_usdt_frame.index = pandas.to_datetime(btc_usdt_frame.index, unit='ms')"
   ]
  },
  {
   "cell_type": "code",
   "execution_count": null,
   "metadata": {},
   "outputs": [],
   "source": [
    "btc_usdt_frame"
   ]
  },
  {
   "cell_type": "code",
   "execution_count": null,
   "metadata": {},
   "outputs": [],
   "source": [
    "import backtrader as bt\n",
    "\n",
    "def test_strategy(strategy, data):\n",
    "    cerebro = bt.Cerebro()\n",
    "    cerebro.addstrategy(strategy)\n",
    "    data = bt.feeds.PandasData(dataname=data)\n",
    "    cerebro.adddata(data)\n",
    "    \n",
    "    starting_cash = 10**6\n",
    "    cerebro.broker.setcash(starting_cash)\n",
    "    cerebro.run()\n",
    "    \n",
    "    portfolio_value = cerebro.broker.getvalue()\n",
    "    pnl = portfolio_value - starting_cash\n",
    "    \n",
    "    print('Final Portfolio Value: ${}'.format(portfolio_value))\n",
    "    print('P/L: ${}'.format(pnl))\n",
    "    \n",
    "    cerebro.plot(style='candlestick')"
   ]
  },
  {
   "cell_type": "code",
   "execution_count": null,
   "metadata": {},
   "outputs": [],
   "source": [
    "class SimpleRsiStrategy(bt.Strategy):\n",
    "    def __init__(self):\n",
    "        self.rsi = bt.indicators.RSI_SMA(self.data.close, period=21)\n",
    "\n",
    "    def next(self):\n",
    "        if not self.position:\n",
    "            if self.rsi < 30:\n",
    "                self.buy(size=10)\n",
    "        else:\n",
    "            if self.rsi > 70:\n",
    "                self.sell(size=10)\n",
    "\n",
    "test_strategy(SimpleRsiStrategy)"
   ]
  }
 ],
 "metadata": {
  "kernelspec": {
   "display_name": "Python 3",
   "language": "python",
   "name": "python3"
  },
  "language_info": {
   "codemirror_mode": {
    "name": "ipython",
    "version": 3
   },
   "file_extension": ".py",
   "mimetype": "text/x-python",
   "name": "python",
   "nbconvert_exporter": "python",
   "pygments_lexer": "ipython3",
   "version": "3.6.5"
  }
 },
 "nbformat": 4,
 "nbformat_minor": 2
}
