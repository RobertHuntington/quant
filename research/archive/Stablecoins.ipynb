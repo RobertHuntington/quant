{
 "cells": [
  {
   "cell_type": "code",
   "execution_count": null,
   "metadata": {},
   "outputs": [],
   "source": [
    "import populator"
   ]
  },
  {
   "cell_type": "code",
   "execution_count": null,
   "metadata": {},
   "outputs": [],
   "source": [
    "data_dir = 'data'\n",
    "# Second item in tuple is max batch size for requests.\n",
    "exchanges = [('binance', 1000)]\n",
    "tick_size = '1h'\n",
    "start = '2000-01-01T00:00:00Z'"
   ]
  },
  {
   "cell_type": "code",
   "execution_count": null,
   "metadata": {},
   "outputs": [],
   "source": [
    "stables = ['TUSD/USDT', 'PAX/USDT', 'USDC/USDT', 'USDC/TUSD', 'USDS/TUSD', 'USDC/PAX', 'USDS/USDT']\n",
    "populator.populate(data_dir, exchanges, stables, tick_size, start)\n",
    "frames = [(pair, populator.load_data_as_frame(data_dir, 'binance', pair, tick_size, start)) for pair in stables]"
   ]
  },
  {
   "cell_type": "code",
   "execution_count": null,
   "metadata": {},
   "outputs": [],
   "source": [
    "import backtrader as bt"
   ]
  },
  {
   "cell_type": "code",
   "execution_count": null,
   "metadata": {},
   "outputs": [],
   "source": [
    "starting_cash = 10**5\n",
    "class StableCoinStrategy(bt.Strategy):\n",
    "    def next(self):\n",
    "        if not self.position:\n",
    "            # Backtrader craps out for some reason with round numbers...\n",
    "            self.buy(size=starting_cash / 2 + 1)\n",
    "        elif self.data.close[0] > 1.0 and self.position.size >= 1000:\n",
    "            self.sell(size=1000)\n",
    "        elif self.data.close[0] < 1.0 and self.broker.getcash() * self.data.close[0] >= 1000:\n",
    "            self.buy(size=1000)"
   ]
  },
  {
   "cell_type": "code",
   "execution_count": null,
   "metadata": {},
   "outputs": [],
   "source": [
    "def run_strategy(name, df):\n",
    "    print('Running strategy for {}.'.format(name))\n",
    "    cerebro = bt.Cerebro()\n",
    "    cerebro.addstrategy(StableCoinStrategy)\n",
    "    data = bt.feeds.PandasData(dataname=df)\n",
    "    cerebro.adddata(data)\n",
    "    cerebro.addanalyzer(bt.analyzers.SharpeRatio, riskfreerate=0.00, _name='sharpe')\n",
    "    cerebro.addanalyzer(bt.analyzers.DrawDown, _name='drawdown')\n",
    "\n",
    "    cerebro.broker.set_coc(True)\n",
    "    cerebro.broker.setcash(starting_cash)\n",
    "    cerebro.broker.setcommission(commission=0.001)\n",
    "    sim = cerebro.run()\n",
    "    \n",
    "    print('Final Value: {}'.format(cerebro.broker.getvalue()))\n",
    "    print('PNL %: {}'.format(100.0 * (cerebro.broker.getvalue() / starting_cash) - 100.0))\n",
    "    print('Sharpe Ratio: {}'.format(sim[0].analyzers.sharpe.get_analysis()['sharperatio']))\n",
    "    print('Max Drawdown: {}'.format(sim[0].analyzers.drawdown.get_analysis().max.drawdown))\n",
    "    print()"
   ]
  },
  {
   "cell_type": "code",
   "execution_count": null,
   "metadata": {},
   "outputs": [],
   "source": [
    "for (name, df) in frames:\n",
    "    run_strategy(name, df)"
   ]
  }
 ],
 "metadata": {
  "kernelspec": {
   "display_name": "Python 3",
   "language": "python",
   "name": "python3"
  },
  "language_info": {
   "codemirror_mode": {
    "name": "ipython",
    "version": 3
   },
   "file_extension": ".py",
   "mimetype": "text/x-python",
   "name": "python",
   "nbconvert_exporter": "python",
   "pygments_lexer": "ipython3",
   "version": "3.7.0"
  }
 },
 "nbformat": 4,
 "nbformat_minor": 2
}
