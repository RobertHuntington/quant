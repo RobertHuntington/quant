{
 "cells": [
  {
   "cell_type": "code",
   "execution_count": null,
   "metadata": {},
   "outputs": [],
   "source": [
    "import sys \n",
    "sys.path.append('../backtest')"
   ]
  },
  {
   "cell_type": "code",
   "execution_count": null,
   "metadata": {},
   "outputs": [],
   "source": [
    "import populator"
   ]
  },
  {
   "cell_type": "code",
   "execution_count": null,
   "metadata": {},
   "outputs": [],
   "source": [
    "data_dir = 'data'\n",
    "exchanges = [('binance', 1000)]\n",
    "shit_coins = ['ETH/BTC', 'LTC/BTC', 'TRX/BTC', 'ICX/BTC', 'OMG/BTC', 'NEO/BTC']\n",
    "pairs = ['BTC/USDT'] + shit_coins\n",
    "tick_size = '1m'\n",
    "start = '2019-01-01T00:00:00Z'\n",
    "num_ticks = 31 * 24 * 60"
   ]
  },
  {
   "cell_type": "code",
   "execution_count": null,
   "metadata": {},
   "outputs": [],
   "source": [
    "populator.populate(data_dir, exchanges, pairs, tick_size, start, num_ticks)"
   ]
  },
  {
   "cell_type": "code",
   "execution_count": null,
   "metadata": {},
   "outputs": [],
   "source": [
    "import pandas as pd\n",
    "from functools import reduce\n",
    "\n",
    "def load_price_frame(pair):\n",
    "    df = populator.load_data_as_frame(data_dir, 'binance', pair, tick_size, start, num_ticks)\n",
    "    df = df.rename(columns = {'close': pair})\n",
    "    return df[[pair]]\n",
    "\n",
    "def merge_price_frames(pairs):\n",
    "    dfs = [load_price_frame(pair) for pair in pairs]\n",
    "    return reduce(lambda left, right: pd.merge(left, right, on='timestamp'), dfs)"
   ]
  },
  {
   "cell_type": "code",
   "execution_count": null,
   "metadata": {},
   "outputs": [],
   "source": [
    "prices = merge_price_frames(pairs)"
   ]
  },
  {
   "cell_type": "code",
   "execution_count": null,
   "metadata": {},
   "outputs": [],
   "source": [
    "import matplotlib.pyplot as plt\n",
    "\n",
    "def cross_corr(data_x, data_y, lag=0):\n",
    "    return data_x.corr(data_y.shift(-lag))\n",
    "\n",
    "def plot_lag(shit_coin, max_lag_offset):\n",
    "    data = [abs(cross_corr(prices['BTC/USDT'], prices[shit_coin], lag=i)) for i in range(max_lag_offset)]\n",
    "    plt.xlabel('Lag Time (minutes)')\n",
    "    plt.ylabel('Abs. Correlation (to BTC/USDT)')\n",
    "    plt.plot(data, label=shit_coin)\n",
    "    plt.legend(loc='lower right')\n",
    "    plt.show()"
   ]
  },
  {
   "cell_type": "code",
   "execution_count": null,
   "metadata": {},
   "outputs": [],
   "source": [
    "plot_lag('ETH/BTC', 360)"
   ]
  },
  {
   "cell_type": "code",
   "execution_count": null,
   "metadata": {},
   "outputs": [],
   "source": [
    "plot_lag('TRX/BTC', 360)"
   ]
  },
  {
   "cell_type": "code",
   "execution_count": null,
   "metadata": {},
   "outputs": [],
   "source": [
    "plot_lag('OMG/BTC', 360)"
   ]
  }
 ],
 "metadata": {
  "kernelspec": {
   "display_name": "Python 3",
   "language": "python",
   "name": "python3"
  },
  "language_info": {
   "codemirror_mode": {
    "name": "ipython",
    "version": 3
   },
   "file_extension": ".py",
   "mimetype": "text/x-python",
   "name": "python",
   "nbconvert_exporter": "python",
   "pygments_lexer": "ipython3",
   "version": "3.7.2"
  }
 },
 "nbformat": 4,
 "nbformat_minor": 2
}
