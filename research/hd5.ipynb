{
 "cells": [
  {
   "cell_type": "code",
   "execution_count": null,
   "metadata": {},
   "outputs": [],
   "source": [
    "import pandas as pd\n",
    "import matplotlib.pyplot as plt\n",
    "import numpy as np"
   ]
  },
  {
   "cell_type": "code",
   "execution_count": null,
   "metadata": {},
   "outputs": [],
   "source": [
    "import os\n",
    "\n",
    "data_dir = 'data'\n",
    "exchange = 'test'\n",
    "\n",
    "df_1m = pd.read_hdf(os.path.join(data_dir, exchange, 'all-1min.h5'))\n",
    "first_idx = df_1m['close_test_EOS_USDT'].first_valid_index()\n",
    "df_1m = df_1m.loc[first_idx:]\n",
    "df_1m = df_1m.filter(regex=r'(close|volume).*')\n",
    "df_1m = df_1m.resample(\"1Min\").fillna(method='ffill')\n",
    "\n",
    "df_1m.resample(\"15Min\").first().plot(subplots=True, figsize=(10, 10))"
   ]
  },
  {
   "cell_type": "code",
   "execution_count": null,
   "metadata": {},
   "outputs": [],
   "source": [
    "def row_to_datum(row):\n",
    "    prices = row.filter(regex=r'close.*').rename(lambda x: x[-8:])\n",
    "    volumes = row.filter(regex=r'volume.*').rename(lambda x: x[-8:])\n",
    "    return pd.DataFrame({'price': prices, 'volume': volumes})\n",
    "df_out = df_1m.tail(1440 * 30).apply(row_to_datum, axis=1)"
   ]
  },
  {
   "cell_type": "code",
   "execution_count": null,
   "metadata": {},
   "outputs": [],
   "source": [
    "df_out.to_hdf('data/1min.h5','key',mode='w')"
   ]
  },
  {
   "cell_type": "code",
   "execution_count": null,
   "metadata": {},
   "outputs": [],
   "source": []
  }
 ],
 "metadata": {
  "kernelspec": {
   "display_name": "Python 3",
   "language": "python",
   "name": "python3"
  },
  "language_info": {
   "codemirror_mode": {
    "name": "ipython",
    "version": 3
   },
   "file_extension": ".py",
   "mimetype": "text/x-python",
   "name": "python",
   "nbconvert_exporter": "python",
   "pygments_lexer": "ipython3",
   "version": "3.7.3"
  }
 },
 "nbformat": 4,
 "nbformat_minor": 2
}
