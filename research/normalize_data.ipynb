{
 "cells": [
  {
   "cell_type": "code",
   "execution_count": 35,
   "metadata": {},
   "outputs": [],
   "source": [
    "# This file is to aggregate trading data from individual currency files in ./data/currency.csv into ./data.csv\n",
    "import csv\n",
    "import datetime\n",
    "import pickle"
   ]
  },
  {
   "cell_type": "code",
   "execution_count": 27,
   "metadata": {},
   "outputs": [],
   "source": [
    "def read_currency_file(currency):\n",
    "    data = []\n",
    "    with open('data/' + currency + '.csv', newline='') as file:\n",
    "        reader = csv.DictReader(file)\n",
    "        for row in reader:\n",
    "            if row['txVolume(USD)'] != '':\n",
    "                datum = {}\n",
    "                datum['date'] = datetime.datetime.strptime(row['date'], \"%Y-%m-%d\").date()\n",
    "                datum['tx_volume'] = float(row['txVolume(USD)'])\n",
    "                datum['mktcap'] = float(row['marketcap(USD)'])\n",
    "                datum['price'] = float(row['price(USD)'])\n",
    "                datum['exchange_volume'] = float(row['exchangeVolume(USD)'])\n",
    "                data.append(datum)\n",
    "    return data"
   ]
  },
  {
   "cell_type": "code",
   "execution_count": 28,
   "metadata": {},
   "outputs": [],
   "source": [
    "btc = read_currency_file('btc')\n",
    "eth = read_currency_file('btc')\n",
    "ltc = read_currency_file('btc')\n",
    "xrp = read_currency_file('btc')"
   ]
  },
  {
   "cell_type": "code",
   "execution_count": 34,
   "metadata": {},
   "outputs": [],
   "source": [
    "data = {}\n",
    "data['btc'] = btc[-500:]\n",
    "data['eth'] = eth[-500:]\n",
    "data['ltc'] = ltc[-500:]\n",
    "data['xrp'] = xrp[-500:]"
   ]
  },
  {
   "cell_type": "code",
   "execution_count": 36,
   "metadata": {},
   "outputs": [],
   "source": [
    "pickle.dump(data, open('data.p', 'wb'))"
   ]
  }
 ],
 "metadata": {
  "kernelspec": {
   "display_name": "Python 3",
   "language": "python",
   "name": "python3"
  },
  "language_info": {
   "codemirror_mode": {
    "name": "ipython",
    "version": 3
   },
   "file_extension": ".py",
   "mimetype": "text/x-python",
   "name": "python",
   "nbconvert_exporter": "python",
   "pygments_lexer": "ipython3",
   "version": "3.7.2"
  }
 },
 "nbformat": 4,
 "nbformat_minor": 2
}
