{
 "cells": [
  {
   "cell_type": "code",
   "execution_count": 7,
   "metadata": {},
   "outputs": [],
   "source": [
    "# This file generates data.p from the individual currency files in ./data/<currency>.csv\n",
    "import csv\n",
    "import datetime\n",
    "import pickle"
   ]
  },
  {
   "cell_type": "code",
   "execution_count": 8,
   "metadata": {},
   "outputs": [],
   "source": [
    "def read_currency_file(currency):\n",
    "    data = []\n",
    "    with open('data/' + currency + '.csv', newline='') as file:\n",
    "        reader = csv.DictReader(file)\n",
    "        for row in reader:\n",
    "            if row['txVolume(USD)'] != '':\n",
    "                datum = {}\n",
    "                datum['date'] = datetime.datetime.strptime(row['date'], \"%Y-%m-%d\").date()\n",
    "                datum['tx_volume'] = float(row['txVolume(USD)'])\n",
    "                datum['mktcap'] = float(row['marketcap(USD)'])\n",
    "                datum['price'] = float(row['price(USD)'])\n",
    "                datum['exchange_volume'] = float(row['exchangeVolume(USD)'])\n",
    "                data.append(datum)\n",
    "    return data"
   ]
  },
  {
   "cell_type": "code",
   "execution_count": 10,
   "metadata": {},
   "outputs": [],
   "source": [
    "btc = read_currency_file('btc')\n",
    "eth = read_currency_file('eth')\n",
    "ltc = read_currency_file('ltc')\n",
    "xrp = read_currency_file('xrp')"
   ]
  },
  {
   "cell_type": "code",
   "execution_count": 11,
   "metadata": {},
   "outputs": [],
   "source": [
    "N = 500\n",
    "btc = btc[-N:]\n",
    "eth = eth[-N:]\n",
    "ltc = ltc[-N:]\n",
    "xrp = xrp[-N:]\n",
    "\n",
    "data = []\n",
    "for (b,e,l,x) in zip(btc, eth, ltc, xrp):\n",
    "    datum = {}\n",
    "    \n",
    "    datum['date'] = b['date']\n",
    "    \n",
    "    datum['btc_tx_volume'] = b['tx_volume']\n",
    "    datum['btc_mktcap'] = b['mktcap']\n",
    "    datum['btc_price'] = b['price']\n",
    "    datum['btc_exchange_volume'] = b['exchange_volume']\n",
    "    \n",
    "    datum['eth_tx_volume'] = e['tx_volume']\n",
    "    datum['eth_mktcap'] = e['mktcap']\n",
    "    datum['eth_price'] = e['price']\n",
    "    datum['eth_exchange_volume'] = e['exchange_volume']\n",
    "    \n",
    "    datum['ltc_tx_volume'] = l['tx_volume']\n",
    "    datum['ltc_mktcap'] = l['mktcap']\n",
    "    datum['ltc_price'] = l['price']\n",
    "    datum['ltc_exchange_volume'] = l['exchange_volume']\n",
    "    \n",
    "    datum['xrp_tx_volume'] = x['tx_volume']\n",
    "    datum['xrp_mktcap'] = x['mktcap']\n",
    "    datum['xrp_price'] = x['price']\n",
    "    datum['xrp_exchange_volume'] = x['exchange_volume']\n",
    "    \n",
    "    data.append(datum)"
   ]
  },
  {
   "cell_type": "code",
   "execution_count": 12,
   "metadata": {},
   "outputs": [],
   "source": [
    "pickle.dump(data, open('data.p', 'wb'))"
   ]
  },
  {
   "cell_type": "code",
   "execution_count": null,
   "metadata": {},
   "outputs": [],
   "source": []
  }
 ],
 "metadata": {
  "kernelspec": {
   "display_name": "Python 3",
   "language": "python",
   "name": "python3"
  },
  "language_info": {
   "codemirror_mode": {
    "name": "ipython",
    "version": 3
   },
   "file_extension": ".py",
   "mimetype": "text/x-python",
   "name": "python",
   "nbconvert_exporter": "python",
   "pygments_lexer": "ipython3",
   "version": "3.7.2"
  }
 },
 "nbformat": 4,
 "nbformat_minor": 2
}
