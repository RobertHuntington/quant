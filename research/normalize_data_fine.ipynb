{
 "cells": [
  {
   "cell_type": "code",
   "execution_count": 1,
   "metadata": {},
   "outputs": [],
   "source": [
    "# This file generates data-minute.p from the individual currency files in ./data/fine/bitmex/<currency>.csv\n",
    "import csv\n",
    "import datetime\n",
    "import pickle"
   ]
  },
  {
   "cell_type": "code",
   "execution_count": 9,
   "metadata": {},
   "outputs": [],
   "source": [
    "def read_candle_file(pair):\n",
    "    data = []\n",
    "    with open('data/fine/bitmex/' + pair + '.csv', newline='') as file:\n",
    "        reader = csv.DictReader(file)\n",
    "        for row in reader:\n",
    "            datum = {}\n",
    "            datum['date'] = datetime.datetime.fromtimestamp(float(row['timestamp']) / 1000)\n",
    "            datum['tx_volume'] = float(row['v'])\n",
    "            datum['price'] = float(row['o'])\n",
    "            data.append(datum)\n",
    "    return data"
   ]
  },
  {
   "cell_type": "code",
   "execution_count": 10,
   "metadata": {},
   "outputs": [],
   "source": [
    "btc = read_candle_file('BTC-USD')\n",
    "eth = read_candle_file('ETH-USD')"
   ]
  },
  {
   "cell_type": "code",
   "execution_count": 11,
   "metadata": {},
   "outputs": [],
   "source": [
    "data = []\n",
    "for (b,e) in zip(btc, eth):\n",
    "    datum = {}\n",
    "    \n",
    "    datum['date'] = b['date']\n",
    "    \n",
    "    datum['btc_tx_volume'] = b['tx_volume']\n",
    "    datum['btc_usd'] = b['price']\n",
    "    \n",
    "    datum['eth_tx_volume'] = e['tx_volume']\n",
    "    datum['eth_usd'] = e['price']\n",
    "    \n",
    "    data.append(datum)"
   ]
  },
  {
   "cell_type": "code",
   "execution_count": 12,
   "metadata": {},
   "outputs": [],
   "source": [
    "pickle.dump(data, open('data-minute.p', 'wb'))"
   ]
  },
  {
   "cell_type": "code",
   "execution_count": null,
   "metadata": {},
   "outputs": [],
   "source": []
  }
 ],
 "metadata": {
  "kernelspec": {
   "display_name": "Python 3",
   "language": "python",
   "name": "python3"
  },
  "language_info": {
   "codemirror_mode": {
    "name": "ipython",
    "version": 3
   },
   "file_extension": ".py",
   "mimetype": "text/x-python",
   "name": "python",
   "nbconvert_exporter": "python",
   "pygments_lexer": "ipython3",
   "version": "3.7.2"
  }
 },
 "nbformat": 4,
 "nbformat_minor": 2
}
