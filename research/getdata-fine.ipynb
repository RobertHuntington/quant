{
 "cells": [
  {
   "cell_type": "code",
   "execution_count": 1,
   "metadata": {
    "scrolled": true
   },
   "outputs": [],
   "source": [
    "import ccxt, time, csv, os, string"
   ]
  },
  {
   "cell_type": "code",
   "execution_count": 2,
   "metadata": {},
   "outputs": [],
   "source": [
    "def retry_fetch_ohlcv(exchange, max_retries, symbol, timeframe, since, limit):\n",
    "    for _ in range(max_retries):    \n",
    "        try:\n",
    "            ohlcv = exchange.fetch_ohlcv(symbol, timeframe, since, limit)\n",
    "            if ohlcv is not None:\n",
    "                return ohlcv\n",
    "        except Exception:\n",
    "            continue\n",
    "    raise Exception('Failed to fetch {} in {} attempts'.format(symbol, max_retries))\n",
    "\n",
    "def scrape_ohlcv(exchange, max_retries, symbol, timeframe, since, limit):\n",
    "    earliest_timestamp = exchange.milliseconds()\n",
    "    timeframe_duration_in_seconds = exchange.parse_timeframe(timeframe)\n",
    "    timeframe_duration_in_ms = timeframe_duration_in_seconds * 1000\n",
    "    timedelta = limit * timeframe_duration_in_ms\n",
    "    all_ohlcv = []\n",
    "    while True:\n",
    "        fetch_since = earliest_timestamp - timedelta\n",
    "        ohlcv = retry_fetch_ohlcv(exchange, max_retries, symbol, timeframe, fetch_since, limit)\n",
    "        # if we have reached the beginning of history\n",
    "        if ohlcv[0][0] >= earliest_timestamp:\n",
    "            break\n",
    "        earliest_timestamp = ohlcv[0][0]\n",
    "        all_ohlcv = ohlcv + all_ohlcv\n",
    "#         print('{} candles from {} to {}'.format(\n",
    "#             len(all_ohlcv),\n",
    "#             exchange.iso8601(all_ohlcv[0][0]),\n",
    "#             exchange.iso8601(all_ohlcv[-1][0])\n",
    "#         ))\n",
    "        if fetch_since < since:\n",
    "            break\n",
    "    return all_ohlcv\n",
    "\n",
    "\n",
    "def write_csv(filename, data):\n",
    "    with open(filename, 'w+') as f:\n",
    "        writer = csv.writer(f, delimiter=',', quotechar='\"', quoting=csv.QUOTE_MINIMAL)\n",
    "        writer.writerow(['timestamp', 'o', 'h', 'l', 'c', 'v'])\n",
    "        writer.writerows(data)\n",
    "\n",
    "\n",
    "def scrape_candles_to_csv(exchange, filename, max_retries, symbol, timeframe, since, limit):\n",
    "    # convert start time from string to milliseconds integer if needed\n",
    "    if isinstance(since, str):\n",
    "        since = exchange.parse8601(since)\n",
    "    ohlcv = scrape_ohlcv(exchange, max_retries, symbol, timeframe, since, limit)\n",
    "    write_csv(filename, ohlcv)\n",
    "    print('Wrote {} candles from {} to {} in {}'.format(\n",
    "        len(ohlcv),\n",
    "        exchange.iso8601(ohlcv[0][0]),\n",
    "        exchange.iso8601(ohlcv[-1][0]),\n",
    "        filename\n",
    "    ))"
   ]
  },
  {
   "cell_type": "code",
   "execution_count": 4,
   "metadata": {},
   "outputs": [
    {
     "name": "stdout",
     "output_type": "stream",
     "text": [
      "Downloading price history for ZEC/USD on exchange bittrex\n",
      "Wrote 6849 candles from 2019-03-09T14:02:00.000Z to 2019-03-20T21:28:00.000Z in data/fine/bittrex/ZEC-USD.csv\n"
     ]
    }
   ],
   "source": [
    "exchanges = ['bittrex']# ['binance', 'bittrex', 'bitmex', 'coss']\n",
    "pairs = ['BTC/USD', 'ETH/USD', 'LTC/USD', 'XRP/USD', 'ADA/USD', 'ETC/USD', 'ZEC/USD', 'BCH/USD']\n",
    "start = '2019-03-01T00:00:00Z'\n",
    "tick = '1m'\n",
    "ticks_per_batch = 12 * 60\n",
    "max_attempts = 5\n",
    "\n",
    "for exchange_id in exchanges:\n",
    "    exchange = getattr(ccxt, exchange_id)({'enableRateLimit': True})\n",
    "    exchange.load_markets()\n",
    "    if not exchange.has['fetchOHLCV']:\n",
    "        print('{} does not expose OHLC data'.format(ex.id))\n",
    "        continue\n",
    "    os.makedirs('data/fine/{}'.format(exchange_id), exist_ok=True)\n",
    "    for pair in pairs:\n",
    "        if not pair in exchange.symbols:\n",
    "            # print('Exchange {} does not trade {}'.format(exchange_id, pair))\n",
    "            continue\n",
    "        print('Downloading price history for {} on exchange {}'.format(pair, exchange_id))\n",
    "        filename = 'data/fine/{}/{}.csv'.format(exchange_id, pair.replace('/', '-'))\n",
    "        scrape_candles_to_csv(exchange, filename, max_attempts, pair, tick, start, ticks_per_batch)"
   ]
  },
  {
   "cell_type": "code",
   "execution_count": null,
   "metadata": {},
   "outputs": [],
   "source": []
  }
 ],
 "metadata": {
  "kernelspec": {
   "display_name": "Python 3",
   "language": "python",
   "name": "python3"
  },
  "language_info": {
   "codemirror_mode": {
    "name": "ipython",
    "version": 3
   },
   "file_extension": ".py",
   "mimetype": "text/x-python",
   "name": "python",
   "nbconvert_exporter": "python",
   "pygments_lexer": "ipython3",
   "version": "3.7.2"
  }
 },
 "nbformat": 4,
 "nbformat_minor": 2
}
