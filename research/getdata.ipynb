{
 "cells": [
  {
   "cell_type": "code",
   "execution_count": 33,
   "metadata": {},
   "outputs": [],
   "source": [
    "import ccxt, time, csv, os, string"
   ]
  },
  {
   "cell_type": "code",
   "execution_count": null,
   "metadata": {},
   "outputs": [],
   "source": [
    "def retry_fetch_ohlcv(exchange, max_retries, symbol, timeframe, since, limit):\n",
    "    num_retries = 0\n",
    "    try:\n",
    "        num_retries += 1\n",
    "        ohlcv = exchange.fetch_ohlcv(symbol, timeframe, since, limit)\n",
    "        return ohlcv\n",
    "    except Exception:\n",
    "        if num_retries > max_retries:\n",
    "            raise Exception('Failed to fetch', timeframe, symbol, 'OHLCV in', max_retries, 'attempts')\n",
    "\n",
    "\n",
    "def scrape_ohlcv(exchange, max_retries, symbol, timeframe, since, limit):\n",
    "    earliest_timestamp = exchange.milliseconds()\n",
    "    timeframe_duration_in_seconds = exchange.parse_timeframe(timeframe)\n",
    "    timeframe_duration_in_ms = timeframe_duration_in_seconds * 1000\n",
    "    timedelta = limit * timeframe_duration_in_ms\n",
    "    all_ohlcv = []\n",
    "    while True:\n",
    "        fetch_since = earliest_timestamp - timedelta\n",
    "        ohlcv = retry_fetch_ohlcv(exchange, max_retries, symbol, timeframe, fetch_since, limit)\n",
    "        # if we have reached the beginning of history\n",
    "        if ohlcv[0][0] >= earliest_timestamp:\n",
    "            break\n",
    "        earliest_timestamp = ohlcv[0][0]\n",
    "        all_ohlcv = ohlcv + all_ohlcv\n",
    "#         print('{} candles from {} to {}'.format(\n",
    "#             len(all_ohlcv),\n",
    "#             exchange.iso8601(all_ohlcv[0][0]),\n",
    "#             exchange.iso8601(all_ohlcv[-1][0])\n",
    "#         ))\n",
    "        if fetch_since < since:\n",
    "            break\n",
    "    return all_ohlcv\n",
    "\n",
    "\n",
    "def write_csv(filename, data):\n",
    "    with open(filename, 'w+') as f:\n",
    "        writer = csv.writer(f, delimiter=',', quotechar='\"', quoting=csv.QUOTE_MINIMAL)\n",
    "        writer.writerow(['timestamp', 'o', 'h', 'l', 'c', 'v'])\n",
    "        writer.writerows(data)\n",
    "\n",
    "\n",
    "def scrape_candles_to_csv(exchange, filename, max_retries, symbol, timeframe, since, limit):\n",
    "    # convert start time from string to milliseconds integer if needed\n",
    "    if isinstance(since, str):\n",
    "        since = exchange.parse8601(since)\n",
    "    ohlcv = scrape_ohlcv(exchange, max_retries, symbol, timeframe, since, limit)\n",
    "    write_csv(filename, ohlcv)\n",
    "    print('Wrote {} candles from {} to {} in {}'.format(\n",
    "        len(ohlcv),\n",
    "        exchange.iso8601(ohlcv[0][0]),\n",
    "        exchange.iso8601(ohlcv[-1][0]),\n",
    "        filename\n",
    "    ))"
   ]
  },
  {
   "cell_type": "code",
   "execution_count": 41,
   "metadata": {},
   "outputs": [
    {
     "name": "stdout",
     "output_type": "stream",
     "text": [
      "Downloading price history for BTC/USDT on exchange binance\n",
      "Wrote 17280 candles from 2019-02-28T21:17:00.000Z to 2019-03-12T21:16:00.000Z in data/fine/binance/BTC-USDT.csv\n",
      "Downloading price history for ETH/USDT on exchange binance\n",
      "Wrote 17280 candles from 2019-02-28T21:17:00.000Z to 2019-03-12T21:16:00.000Z in data/fine/binance/ETH-USDT.csv\n",
      "Exchange binance does not trade BTC/USD\n",
      "Exchange binance does not trade ETH/USD\n",
      "Exchange bitfinex does not trade BTC/USDT\n",
      "Exchange bitfinex does not trade ETH/USDT\n",
      "Downloading price history for BTC/USD on exchange bitfinex\n"
     ]
    },
    {
     "ename": "TypeError",
     "evalue": "'NoneType' object is not subscriptable",
     "output_type": "error",
     "traceback": [
      "\u001b[0;31m---------------------------------------------------------------------------\u001b[0m",
      "\u001b[0;31mTypeError\u001b[0m                                 Traceback (most recent call last)",
      "\u001b[0;32m<ipython-input-41-8cd951895388>\u001b[0m in \u001b[0;36m<module>\u001b[0;34m\u001b[0m\n\u001b[1;32m     18\u001b[0m         \u001b[0mprint\u001b[0m\u001b[0;34m(\u001b[0m\u001b[0;34m'Downloading price history for {} on exchange {}'\u001b[0m\u001b[0;34m.\u001b[0m\u001b[0mformat\u001b[0m\u001b[0;34m(\u001b[0m\u001b[0mpair\u001b[0m\u001b[0;34m,\u001b[0m \u001b[0mexchange_id\u001b[0m\u001b[0;34m)\u001b[0m\u001b[0;34m)\u001b[0m\u001b[0;34m\u001b[0m\u001b[0m\n\u001b[1;32m     19\u001b[0m         \u001b[0mfilename\u001b[0m \u001b[0;34m=\u001b[0m \u001b[0;34m'data/fine/{}/{}.csv'\u001b[0m\u001b[0;34m.\u001b[0m\u001b[0mformat\u001b[0m\u001b[0;34m(\u001b[0m\u001b[0mexchange_id\u001b[0m\u001b[0;34m,\u001b[0m \u001b[0mpair\u001b[0m\u001b[0;34m.\u001b[0m\u001b[0mreplace\u001b[0m\u001b[0;34m(\u001b[0m\u001b[0;34m'/'\u001b[0m\u001b[0;34m,\u001b[0m \u001b[0;34m'-'\u001b[0m\u001b[0;34m)\u001b[0m\u001b[0;34m)\u001b[0m\u001b[0;34m\u001b[0m\u001b[0m\n\u001b[0;32m---> 20\u001b[0;31m         \u001b[0mscrape_candles_to_csv\u001b[0m\u001b[0;34m(\u001b[0m\u001b[0mexchange\u001b[0m\u001b[0;34m,\u001b[0m \u001b[0mfilename\u001b[0m\u001b[0;34m,\u001b[0m \u001b[0;36m3\u001b[0m\u001b[0;34m,\u001b[0m \u001b[0mpair\u001b[0m\u001b[0;34m,\u001b[0m \u001b[0mtick\u001b[0m\u001b[0;34m,\u001b[0m \u001b[0mstart\u001b[0m\u001b[0;34m,\u001b[0m \u001b[0mticks_per_batch\u001b[0m\u001b[0;34m)\u001b[0m\u001b[0;34m\u001b[0m\u001b[0m\n\u001b[0m",
      "\u001b[0;32m<ipython-input-40-b39d8c554557>\u001b[0m in \u001b[0;36mscrape_candles_to_csv\u001b[0;34m(exchange, filename, max_retries, symbol, timeframe, since, limit)\u001b[0m\n\u001b[1;32m     45\u001b[0m     \u001b[0;32mif\u001b[0m \u001b[0misinstance\u001b[0m\u001b[0;34m(\u001b[0m\u001b[0msince\u001b[0m\u001b[0;34m,\u001b[0m \u001b[0mstr\u001b[0m\u001b[0;34m)\u001b[0m\u001b[0;34m:\u001b[0m\u001b[0;34m\u001b[0m\u001b[0m\n\u001b[1;32m     46\u001b[0m         \u001b[0msince\u001b[0m \u001b[0;34m=\u001b[0m \u001b[0mexchange\u001b[0m\u001b[0;34m.\u001b[0m\u001b[0mparse8601\u001b[0m\u001b[0;34m(\u001b[0m\u001b[0msince\u001b[0m\u001b[0;34m)\u001b[0m\u001b[0;34m\u001b[0m\u001b[0m\n\u001b[0;32m---> 47\u001b[0;31m     \u001b[0mohlcv\u001b[0m \u001b[0;34m=\u001b[0m \u001b[0mscrape_ohlcv\u001b[0m\u001b[0;34m(\u001b[0m\u001b[0mexchange\u001b[0m\u001b[0;34m,\u001b[0m \u001b[0mmax_retries\u001b[0m\u001b[0;34m,\u001b[0m \u001b[0msymbol\u001b[0m\u001b[0;34m,\u001b[0m \u001b[0mtimeframe\u001b[0m\u001b[0;34m,\u001b[0m \u001b[0msince\u001b[0m\u001b[0;34m,\u001b[0m \u001b[0mlimit\u001b[0m\u001b[0;34m)\u001b[0m\u001b[0;34m\u001b[0m\u001b[0m\n\u001b[0m\u001b[1;32m     48\u001b[0m     \u001b[0mwrite_csv\u001b[0m\u001b[0;34m(\u001b[0m\u001b[0mfilename\u001b[0m\u001b[0;34m,\u001b[0m \u001b[0mohlcv\u001b[0m\u001b[0;34m)\u001b[0m\u001b[0;34m\u001b[0m\u001b[0m\n\u001b[1;32m     49\u001b[0m     print('Wrote {} candles from {} to {} in {}'.format(\n",
      "\u001b[0;32m<ipython-input-40-b39d8c554557>\u001b[0m in \u001b[0;36mscrape_ohlcv\u001b[0;34m(exchange, max_retries, symbol, timeframe, since, limit)\u001b[0m\n\u001b[1;32m     20\u001b[0m         \u001b[0mohlcv\u001b[0m \u001b[0;34m=\u001b[0m \u001b[0mretry_fetch_ohlcv\u001b[0m\u001b[0;34m(\u001b[0m\u001b[0mexchange\u001b[0m\u001b[0;34m,\u001b[0m \u001b[0mmax_retries\u001b[0m\u001b[0;34m,\u001b[0m \u001b[0msymbol\u001b[0m\u001b[0;34m,\u001b[0m \u001b[0mtimeframe\u001b[0m\u001b[0;34m,\u001b[0m \u001b[0mfetch_since\u001b[0m\u001b[0;34m,\u001b[0m \u001b[0mlimit\u001b[0m\u001b[0;34m)\u001b[0m\u001b[0;34m\u001b[0m\u001b[0m\n\u001b[1;32m     21\u001b[0m         \u001b[0;31m# if we have reached the beginning of history\u001b[0m\u001b[0;34m\u001b[0m\u001b[0;34m\u001b[0m\u001b[0m\n\u001b[0;32m---> 22\u001b[0;31m         \u001b[0;32mif\u001b[0m \u001b[0mohlcv\u001b[0m\u001b[0;34m[\u001b[0m\u001b[0;36m0\u001b[0m\u001b[0;34m]\u001b[0m\u001b[0;34m[\u001b[0m\u001b[0;36m0\u001b[0m\u001b[0;34m]\u001b[0m \u001b[0;34m>=\u001b[0m \u001b[0mearliest_timestamp\u001b[0m\u001b[0;34m:\u001b[0m\u001b[0;34m\u001b[0m\u001b[0m\n\u001b[0m\u001b[1;32m     23\u001b[0m             \u001b[0;32mbreak\u001b[0m\u001b[0;34m\u001b[0m\u001b[0m\n\u001b[1;32m     24\u001b[0m         \u001b[0mearliest_timestamp\u001b[0m \u001b[0;34m=\u001b[0m \u001b[0mohlcv\u001b[0m\u001b[0;34m[\u001b[0m\u001b[0;36m0\u001b[0m\u001b[0;34m]\u001b[0m\u001b[0;34m[\u001b[0m\u001b[0;36m0\u001b[0m\u001b[0;34m]\u001b[0m\u001b[0;34m\u001b[0m\u001b[0m\n",
      "\u001b[0;31mTypeError\u001b[0m: 'NoneType' object is not subscriptable"
     ]
    }
   ],
   "source": [
    "exchanges = ['binance', 'bitfinex']\n",
    "pairs = ['BTC/USDT', 'ETH/USDT', 'BTC/USD', 'ETH/USD']\n",
    "start = '2019-03-01T00:00:00Z'\n",
    "tick = '1m'\n",
    "ticks_per_batch = 12 * 60\n",
    "\n",
    "for exchange_id in exchanges:\n",
    "    exchange = getattr(ccxt, exchange_id)({'enableRateLimit': True})\n",
    "    exchange.load_markets()\n",
    "    if not exchange.has['fetchOHLCV']:\n",
    "        print('{} does not expose OHLC data'.format(ex.id))\n",
    "        continue\n",
    "    os.makedirs('data/fine/{}'.format(exchange_id), exist_ok=True)\n",
    "    for pair in pairs:\n",
    "        if not pair in exchange.symbols:\n",
    "            print('Exchange {} does not trade {}'.format(exchange_id, pair))\n",
    "            continue\n",
    "        print('Downloading price history for {} on exchange {}'.format(pair, exchange_id))\n",
    "        filename = 'data/fine/{}/{}.csv'.format(exchange_id, pair.replace('/', '-'))\n",
    "        scrape_candles_to_csv(exchange, filename, 3, pair, tick, start, ticks_per_batch)"
   ]
  },
  {
   "cell_type": "code",
   "execution_count": null,
   "metadata": {},
   "outputs": [],
   "source": []
  }
 ],
 "metadata": {
  "kernelspec": {
   "display_name": "Python 3",
   "language": "python",
   "name": "python3"
  }
 },
 "nbformat": 4,
 "nbformat_minor": 2
}
