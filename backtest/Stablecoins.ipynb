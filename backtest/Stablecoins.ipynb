{
 "cells": [
  {
   "cell_type": "code",
   "execution_count": 1,
   "metadata": {},
   "outputs": [],
   "source": [
    "import populator"
   ]
  },
  {
   "cell_type": "code",
   "execution_count": 2,
   "metadata": {},
   "outputs": [],
   "source": [
    "data_dir = 'data'\n",
    "# Second item in tuple is max batch size for requests.\n",
    "exchanges = [('binance', 1000)]\n",
    "tick_size = '1h'\n",
    "start = '2000-01-01T00:00:00Z'"
   ]
  },
  {
   "cell_type": "code",
   "execution_count": 3,
   "metadata": {},
   "outputs": [
    {
     "name": "stdout",
     "output_type": "stream",
     "text": [
      "Downloading price history for TUSD/USDT on exchange binance.\n",
      "Batch Size: 1000\n",
      "Total Entries: 168335\n",
      "Note: Entries will not exist if they predate exchange history.\n",
      "Entries Processed: 162427\n",
      "Entries Processed: 163427\n",
      "Entries Processed: 164427\n",
      "Entries Processed: 165437\n",
      "Entries Processed: 166437\n",
      "Entries Processed: 167437\n",
      "Entries Processed: 168335\n",
      "Scraping for data/binance/TUSD-USDT-1h-2000-01-01T00-00-00Z-all.csv succeeded.\n",
      "Downloading price history for PAX/USDT on exchange binance.\n",
      "Batch Size: 1000\n",
      "Total Entries: 168335\n",
      "Note: Entries will not exist if they predate exchange history.\n",
      "Entries Processed: 165444\n",
      "Entries Processed: 166444\n",
      "Entries Processed: 167444\n",
      "Entries Processed: 168335\n",
      "Scraping for data/binance/PAX-USDT-1h-2000-01-01T00-00-00Z-all.csv succeeded.\n",
      "Downloading price history for USDC/USDT on exchange binance.\n",
      "Batch Size: 1000\n",
      "Total Entries: 168335\n",
      "Note: Entries will not exist if they predate exchange history.\n",
      "Entries Processed: 167155\n",
      "Entries Processed: 168155\n",
      "Entries Processed: 168335\n",
      "Scraping for data/binance/USDC-USDT-1h-2000-01-01T00-00-00Z-all.csv succeeded.\n",
      "Downloading price history for USDC/TUSD on exchange binance.\n",
      "Batch Size: 1000\n",
      "Total Entries: 168335\n",
      "Note: Entries will not exist if they predate exchange history.\n",
      "Entries Processed: 167732\n",
      "Entries Processed: 168335\n",
      "Scraping for data/binance/USDC-TUSD-1h-2000-01-01T00-00-00Z-all.csv succeeded.\n",
      "Downloading price history for USDS/TUSD on exchange binance.\n",
      "Batch Size: 1000\n",
      "Total Entries: 168335\n",
      "Note: Entries will not exist if they predate exchange history.\n",
      "Entries Processed: 168335\n",
      "Scraping for data/binance/USDS-TUSD-1h-2000-01-01T00-00-00Z-all.csv succeeded.\n",
      "Downloading price history for USDC/PAX on exchange binance.\n",
      "Batch Size: 1000\n",
      "Total Entries: 168335\n",
      "Note: Entries will not exist if they predate exchange history.\n",
      "Entries Processed: 167732\n",
      "Entries Processed: 168335\n",
      "Scraping for data/binance/USDC-PAX-1h-2000-01-01T00-00-00Z-all.csv succeeded.\n",
      "Downloading price history for USDS/USDT on exchange binance.\n",
      "Batch Size: 1000\n",
      "Total Entries: 168335\n",
      "Note: Entries will not exist if they predate exchange history.\n",
      "Entries Processed: 168335\n",
      "Scraping for data/binance/USDS-USDT-1h-2000-01-01T00-00-00Z-all.csv succeeded.\n"
     ]
    }
   ],
   "source": [
    "stables = ['TUSD/USDT', 'PAX/USDT', 'USDC/USDT', 'USDC/TUSD', 'USDS/TUSD', 'USDC/PAX', 'USDS/USDT']\n",
    "populator.populate(data_dir, exchanges, stables, tick_size, start)\n",
    "frames = [(pair, populator.load_data_as_frame(data_dir, 'binance', pair, tick_size, start)) for pair in stables]"
   ]
  },
  {
   "cell_type": "code",
   "execution_count": 4,
   "metadata": {},
   "outputs": [],
   "source": [
    "import backtrader as bt"
   ]
  },
  {
   "cell_type": "code",
   "execution_count": 5,
   "metadata": {},
   "outputs": [],
   "source": [
    "class StableCoinStrategy(bt.Strategy):\n",
    "    def next(self):\n",
    "        if not self.position:\n",
    "            self.buy(size=self.data.close[0] / (self.data.close[0] + 1.0) * 10000.0)\n",
    "        elif self.data.close[0] > 1.0:\n",
    "            self.sell(size=1000)\n",
    "        else:\n",
    "            self.buy(size=1000)"
   ]
  },
  {
   "cell_type": "code",
   "execution_count": 6,
   "metadata": {},
   "outputs": [],
   "source": [
    "def run_strategy(name, df):\n",
    "    print('Running strategy for {}.'.format(name))\n",
    "    cerebro = bt.Cerebro()\n",
    "    cerebro.addstrategy(StableCoinStrategy)\n",
    "    data = bt.feeds.PandasData(dataname=df)\n",
    "    cerebro.adddata(data)\n",
    "    cerebro.addanalyzer(bt.analyzers.SharpeRatio, riskfreerate=0.00, _name='sharpe')\n",
    "    cerebro.addanalyzer(bt.analyzers.DrawDown, _name='drawdown')\n",
    "\n",
    "    starting_cash = 10**5\n",
    "    cerebro.broker.setcash(starting_cash)\n",
    "    cerebro.broker.setcommission(commission=0.001)\n",
    "    sim = cerebro.run()\n",
    "    \n",
    "    print('Final Value: {}'.format(cerebro.broker.getvalue()))\n",
    "    print('PNL %: {}'.format(100.0 * (cerebro.broker.getvalue() / starting_cash) - 100.0))\n",
    "    print('Sharpe Ratio: {}'.format(sim[0].analyzers.sharpe.get_analysis()['sharperatio']))\n",
    "    print('Max Drawdown: {}'.format(sim[0].analyzers.drawdown.get_analysis().max.drawdown))\n",
    "    print()"
   ]
  },
  {
   "cell_type": "code",
   "execution_count": 7,
   "metadata": {},
   "outputs": [
    {
     "name": "stdout",
     "output_type": "stream",
     "text": [
      "Running strategy for TUSD/USDT.\n",
      "Final Value: 126324.01444609603\n",
      "PNL %: 26.324014446096015\n",
      "Sharpe Ratio: 0.6376390028324086\n",
      "Max Drawdown: 214.4826026548319\n",
      "\n",
      "Running strategy for PAX/USDT.\n",
      "Final Value: 127335.05572422873\n",
      "PNL %: 27.335055724228738\n",
      "Sharpe Ratio: 0.8380274604865633\n",
      "Max Drawdown: 51.89555968202013\n",
      "\n",
      "Running strategy for USDC/USDT.\n",
      "Final Value: 102027.97844052664\n",
      "PNL %: 2.0279784405266525\n",
      "Sharpe Ratio: 1.6281514384982154\n",
      "Max Drawdown: 7.065335717593181\n",
      "\n",
      "Running strategy for USDC/TUSD.\n",
      "Final Value: 99320.84240391752\n",
      "PNL %: -0.6791575960824758\n",
      "Sharpe Ratio: None\n",
      "Max Drawdown: 1.0323255999999528\n",
      "\n",
      "Running strategy for USDS/TUSD.\n",
      "Final Value: 99657.1450018013\n",
      "PNL %: -0.34285499819870324\n",
      "Sharpe Ratio: None\n",
      "Max Drawdown: 0.48145219707825165\n",
      "\n",
      "Running strategy for USDC/PAX.\n",
      "Final Value: 98783.70780099742\n",
      "PNL %: -1.2162921990025808\n",
      "Sharpe Ratio: None\n",
      "Max Drawdown: 3.4155895180006204\n",
      "\n",
      "Running strategy for USDS/USDT.\n",
      "Final Value: 97923.73735308275\n",
      "PNL %: -2.076262646917243\n",
      "Sharpe Ratio: None\n",
      "Max Drawdown: 4.992416268893389\n",
      "\n"
     ]
    }
   ],
   "source": [
    "for (name, df) in frames:\n",
    "    run_strategy(name, df)"
   ]
  }
 ],
 "metadata": {
  "kernelspec": {
   "display_name": "Python 3",
   "language": "python",
   "name": "python3"
  },
  "language_info": {
   "codemirror_mode": {
    "name": "ipython",
    "version": 3
   },
   "file_extension": ".py",
   "mimetype": "text/x-python",
   "name": "python",
   "nbconvert_exporter": "python",
   "pygments_lexer": "ipython3",
   "version": "3.7.0"
  }
 },
 "nbformat": 4,
 "nbformat_minor": 2
}
