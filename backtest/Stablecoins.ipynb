{
 "cells": [
  {
   "cell_type": "code",
   "execution_count": 1,
   "metadata": {},
   "outputs": [],
   "source": [
    "import populator"
   ]
  },
  {
   "cell_type": "code",
   "execution_count": 2,
   "metadata": {},
   "outputs": [],
   "source": [
    "data_dir = 'data'\n",
    "# Second item in tuple is max batch size for requests.\n",
    "exchanges = [('binance', 1000)]\n",
    "tick_size = '1h'\n",
    "start = '2000-01-01T00:00:00Z'"
   ]
  },
  {
   "cell_type": "code",
   "execution_count": 3,
   "metadata": {},
   "outputs": [
    {
     "name": "stdout",
     "output_type": "stream",
     "text": [
      "Downloading price history for TUSD/USDT on exchange binance.\n",
      "Batch Size: 1000\n",
      "Total Entries: 168337\n",
      "Note: Entries will not exist if they predate exchange history.\n",
      "Entries Processed: 162427\n",
      "Entries Processed: 163427\n",
      "Entries Processed: 164427\n",
      "Entries Processed: 165437\n",
      "Entries Processed: 166437\n",
      "Entries Processed: 167437\n",
      "Entries Processed: 168337\n",
      "Scraping for data/binance/TUSD-USDT-1h-2000-01-01T00-00-00Z-all.csv succeeded.\n",
      "Downloading price history for PAX/USDT on exchange binance.\n",
      "Batch Size: 1000\n",
      "Total Entries: 168337\n",
      "Note: Entries will not exist if they predate exchange history.\n",
      "Entries Processed: 165444\n",
      "Entries Processed: 166444\n",
      "Entries Processed: 167444\n",
      "Entries Processed: 168337\n",
      "Scraping for data/binance/PAX-USDT-1h-2000-01-01T00-00-00Z-all.csv succeeded.\n",
      "Downloading price history for USDC/USDT on exchange binance.\n",
      "Batch Size: 1000\n",
      "Total Entries: 168337\n",
      "Note: Entries will not exist if they predate exchange history.\n",
      "Entries Processed: 167155\n",
      "Entries Processed: 168155\n",
      "Entries Processed: 168337\n",
      "Scraping for data/binance/USDC-USDT-1h-2000-01-01T00-00-00Z-all.csv succeeded.\n",
      "Downloading price history for USDC/TUSD on exchange binance.\n",
      "Batch Size: 1000\n",
      "Total Entries: 168337\n",
      "Note: Entries will not exist if they predate exchange history.\n",
      "Entries Processed: 167732\n",
      "Entries Processed: 168337\n",
      "Scraping for data/binance/USDC-TUSD-1h-2000-01-01T00-00-00Z-all.csv succeeded.\n",
      "Downloading price history for USDS/TUSD on exchange binance.\n",
      "Batch Size: 1000\n",
      "Total Entries: 168337\n",
      "Note: Entries will not exist if they predate exchange history.\n",
      "Entries Processed: 168337\n",
      "Scraping for data/binance/USDS-TUSD-1h-2000-01-01T00-00-00Z-all.csv succeeded.\n",
      "Downloading price history for USDC/PAX on exchange binance.\n",
      "Batch Size: 1000\n",
      "Total Entries: 168337\n",
      "Note: Entries will not exist if they predate exchange history.\n",
      "Entries Processed: 167732\n",
      "Entries Processed: 168337\n",
      "Scraping for data/binance/USDC-PAX-1h-2000-01-01T00-00-00Z-all.csv succeeded.\n",
      "Downloading price history for USDS/USDT on exchange binance.\n",
      "Batch Size: 1000\n",
      "Total Entries: 168337\n",
      "Note: Entries will not exist if they predate exchange history.\n",
      "Entries Processed: 168337\n",
      "Scraping for data/binance/USDS-USDT-1h-2000-01-01T00-00-00Z-all.csv succeeded.\n"
     ]
    }
   ],
   "source": [
    "stables = ['TUSD/USDT', 'PAX/USDT', 'USDC/USDT', 'USDC/TUSD', 'USDS/TUSD', 'USDC/PAX', 'USDS/USDT']\n",
    "populator.populate(data_dir, exchanges, stables, tick_size, start)\n",
    "frames = [(pair, populator.load_data_as_frame(data_dir, 'binance', pair, tick_size, start)) for pair in stables]"
   ]
  },
  {
   "cell_type": "code",
   "execution_count": 4,
   "metadata": {},
   "outputs": [],
   "source": [
    "import backtrader as bt"
   ]
  },
  {
   "cell_type": "code",
   "execution_count": 5,
   "metadata": {},
   "outputs": [],
   "source": [
    "starting_cash = 10**5\n",
    "class StableCoinStrategy(bt.Strategy):\n",
    "    def next(self):\n",
    "        if not self.position:\n",
    "            # Backtrader craps out for some reason with round numbers...\n",
    "            self.buy(size=starting_cash / 2 + 1)\n",
    "        elif self.data.close[0] > 1.0 and self.position.size >= 1000:\n",
    "            self.sell(size=1000)\n",
    "        elif self.data.close[0] < 1.0 and self.broker.getcash() * self.data.close[0] >= 1000:\n",
    "            self.buy(size=1000)"
   ]
  },
  {
   "cell_type": "code",
   "execution_count": 6,
   "metadata": {},
   "outputs": [],
   "source": [
    "def run_strategy(name, df):\n",
    "    print('Running strategy for {}.'.format(name))\n",
    "    cerebro = bt.Cerebro()\n",
    "    cerebro.addstrategy(StableCoinStrategy)\n",
    "    data = bt.feeds.PandasData(dataname=df)\n",
    "    cerebro.adddata(data)\n",
    "    cerebro.addanalyzer(bt.analyzers.SharpeRatio, riskfreerate=0.00, _name='sharpe')\n",
    "    cerebro.addanalyzer(bt.analyzers.DrawDown, _name='drawdown')\n",
    "\n",
    "    cerebro.broker.set_coc(True)\n",
    "    cerebro.broker.setcash(starting_cash)\n",
    "    cerebro.broker.setcommission(commission=0.001)\n",
    "    sim = cerebro.run()\n",
    "    \n",
    "    print('Final Value: {}'.format(cerebro.broker.getvalue()))\n",
    "    print('PNL %: {}'.format(100.0 * (cerebro.broker.getvalue() / starting_cash) - 100.0))\n",
    "    print('Sharpe Ratio: {}'.format(sim[0].analyzers.sharpe.get_analysis()['sharperatio']))\n",
    "    print('Max Drawdown: {}'.format(sim[0].analyzers.drawdown.get_analysis().max.drawdown))\n",
    "    print()"
   ]
  },
  {
   "cell_type": "code",
   "execution_count": 7,
   "metadata": {},
   "outputs": [
    {
     "name": "stdout",
     "output_type": "stream",
     "text": [
      "Running strategy for TUSD/USDT.\n",
      "Final Value: 100605.99699599993\n",
      "PNL %: 0.6059969959999307\n",
      "Sharpe Ratio: 1.0458326871925159\n",
      "Max Drawdown: 1.8092908826678178\n",
      "\n",
      "Running strategy for PAX/USDT.\n",
      "Final Value: 100269.76368909994\n",
      "PNL %: 0.2697636890999462\n",
      "Sharpe Ratio: 1.29022679956778\n",
      "Max Drawdown: 1.8282380397804032\n",
      "\n",
      "Running strategy for USDC/USDT.\n",
      "Final Value: 100437.39268829995\n",
      "PNL %: 0.43739268829993705\n",
      "Sharpe Ratio: 0.919302002269944\n",
      "Max Drawdown: 1.8921819655301215\n",
      "\n",
      "Running strategy for USDC/TUSD.\n",
      "Final Value: 99534.10270000022\n",
      "PNL %: -0.46589729999976726\n",
      "Sharpe Ratio: None\n",
      "Max Drawdown: 1.0698793000000588\n",
      "\n",
      "Running strategy for USDS/TUSD.\n",
      "Final Value: 99692.18170080044\n",
      "PNL %: -0.3078182991995533\n",
      "Sharpe Ratio: None\n",
      "Max Drawdown: 0.4266194991995435\n",
      "\n",
      "Running strategy for USDC/PAX.\n",
      "Final Value: 99716.19249800013\n",
      "PNL %: -0.2838075019998598\n",
      "Sharpe Ratio: None\n",
      "Max Drawdown: 0.35653567032578254\n",
      "\n",
      "Running strategy for USDS/USDT.\n",
      "Final Value: 99984.37089260003\n",
      "PNL %: -0.01562910739997392\n",
      "Sharpe Ratio: None\n",
      "Max Drawdown: 0.174025425118324\n",
      "\n"
     ]
    }
   ],
   "source": [
    "for (name, df) in frames:\n",
    "    run_strategy(name, df)"
   ]
  }
 ],
 "metadata": {
  "kernelspec": {
   "display_name": "Python 3",
   "language": "python",
   "name": "python3"
  },
  "language_info": {
   "codemirror_mode": {
    "name": "ipython",
    "version": 3
   },
   "file_extension": ".py",
   "mimetype": "text/x-python",
   "name": "python",
   "nbconvert_exporter": "python",
   "pygments_lexer": "ipython3",
   "version": "3.7.0"
  }
 },
 "nbformat": 4,
 "nbformat_minor": 2
}
