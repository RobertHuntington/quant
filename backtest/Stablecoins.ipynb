{
 "cells": [
  {
   "cell_type": "code",
   "execution_count": 1,
   "metadata": {},
   "outputs": [],
   "source": [
    "import populator"
   ]
  },
  {
   "cell_type": "code",
   "execution_count": 2,
   "metadata": {},
   "outputs": [],
   "source": [
    "data_dir = 'data'\n",
    "# Second item in tuple is max batch size for requests.\n",
    "exchanges = [('binance', 1000)]\n",
    "tick_size = '1h'\n",
    "start = '2000-01-01T00:00:00Z'"
   ]
  },
  {
   "cell_type": "code",
   "execution_count": 3,
   "metadata": {},
   "outputs": [
    {
     "name": "stdout",
     "output_type": "stream",
     "text": [
      "Downloading price history for TUSD/USDT on exchange binance.\n",
      "Batch Size: 1000\n",
      "Total Entries: 168336\n",
      "Note: Entries will not exist if they predate exchange history.\n",
      "Entries Processed: 162427\n",
      "Entries Processed: 163427\n",
      "Entries Processed: 164427\n",
      "Entries Processed: 165437\n",
      "Entries Processed: 166437\n",
      "Entries Processed: 167437\n",
      "Entries Processed: 168336\n",
      "Scraping for data/binance/TUSD-USDT-1h-2000-01-01T00-00-00Z-all.csv succeeded.\n",
      "Downloading price history for PAX/USDT on exchange binance.\n",
      "Batch Size: 1000\n",
      "Total Entries: 168336\n",
      "Note: Entries will not exist if they predate exchange history.\n",
      "Entries Processed: 165444\n",
      "Entries Processed: 166444\n",
      "Entries Processed: 167444\n",
      "Entries Processed: 168336\n",
      "Scraping for data/binance/PAX-USDT-1h-2000-01-01T00-00-00Z-all.csv succeeded.\n",
      "Downloading price history for USDC/USDT on exchange binance.\n",
      "Batch Size: 1000\n",
      "Total Entries: 168336\n",
      "Note: Entries will not exist if they predate exchange history.\n",
      "Entries Processed: 167155\n",
      "Entries Processed: 168155\n",
      "Entries Processed: 168336\n",
      "Scraping for data/binance/USDC-USDT-1h-2000-01-01T00-00-00Z-all.csv succeeded.\n",
      "Downloading price history for USDC/TUSD on exchange binance.\n",
      "Batch Size: 1000\n",
      "Total Entries: 168336\n",
      "Note: Entries will not exist if they predate exchange history.\n",
      "Entries Processed: 167732\n",
      "Entries Processed: 168336\n",
      "Scraping for data/binance/USDC-TUSD-1h-2000-01-01T00-00-00Z-all.csv succeeded.\n",
      "Downloading price history for USDS/TUSD on exchange binance.\n",
      "Batch Size: 1000\n",
      "Total Entries: 168336\n",
      "Note: Entries will not exist if they predate exchange history.\n",
      "Entries Processed: 168336\n",
      "Scraping for data/binance/USDS-TUSD-1h-2000-01-01T00-00-00Z-all.csv succeeded.\n",
      "Downloading price history for USDC/PAX on exchange binance.\n",
      "Batch Size: 1000\n",
      "Total Entries: 168336\n",
      "Note: Entries will not exist if they predate exchange history.\n",
      "Entries Processed: 167732\n",
      "Entries Processed: 168336\n",
      "Scraping for data/binance/USDC-PAX-1h-2000-01-01T00-00-00Z-all.csv succeeded.\n",
      "Downloading price history for USDS/USDT on exchange binance.\n",
      "Batch Size: 1000\n",
      "Total Entries: 168336\n",
      "Note: Entries will not exist if they predate exchange history.\n",
      "Entries Processed: 168336\n",
      "Scraping for data/binance/USDS-USDT-1h-2000-01-01T00-00-00Z-all.csv succeeded.\n"
     ]
    }
   ],
   "source": [
    "stables = ['TUSD/USDT', 'PAX/USDT', 'USDC/USDT', 'USDC/TUSD', 'USDS/TUSD', 'USDC/PAX', 'USDS/USDT']\n",
    "populator.populate(data_dir, exchanges, stables, tick_size, start)\n",
    "frames = [(pair, populator.load_data_as_frame(data_dir, 'binance', pair, tick_size, start)) for pair in stables]"
   ]
  },
  {
   "cell_type": "code",
   "execution_count": 4,
   "metadata": {},
   "outputs": [],
   "source": [
    "import backtrader as bt"
   ]
  },
  {
   "cell_type": "code",
   "execution_count": 5,
   "metadata": {},
   "outputs": [],
   "source": [
    "starting_cash = 10**5\n",
    "class StableCoinStrategy(bt.Strategy):\n",
    "    def next(self):\n",
    "        if not self.position:\n",
    "            self.buy(size=starting_cash / 2)\n",
    "        elif self.data.close[0] > 1.0 and self.position.size > 1000:\n",
    "            self.sell(size=1000)\n",
    "        elif self.broker.getcash() > 1000 * self.data.close[0]:\n",
    "            self.buy(size=1000)"
   ]
  },
  {
   "cell_type": "code",
   "execution_count": 6,
   "metadata": {},
   "outputs": [],
   "source": [
    "def run_strategy(name, df):\n",
    "    print('Running strategy for {}.'.format(name))\n",
    "    cerebro = bt.Cerebro()\n",
    "    cerebro.addstrategy(StableCoinStrategy)\n",
    "    data = bt.feeds.PandasData(dataname=df)\n",
    "    cerebro.adddata(data)\n",
    "    cerebro.addanalyzer(bt.analyzers.SharpeRatio, riskfreerate=0.00, _name='sharpe')\n",
    "    cerebro.addanalyzer(bt.analyzers.DrawDown, _name='drawdown')\n",
    "\n",
    "    cerebro.broker.setcash(starting_cash)\n",
    "    cerebro.broker.setcommission(commission=0.001)\n",
    "    sim = cerebro.run()\n",
    "    \n",
    "    print('Final Value: {}'.format(cerebro.broker.getvalue()))\n",
    "    print('PNL %: {}'.format(100.0 * (cerebro.broker.getvalue() / starting_cash) - 100.0))\n",
    "    print('Sharpe Ratio: {}'.format(sim[0].analyzers.sharpe.get_analysis()['sharperatio']))\n",
    "    print('Max Drawdown: {}'.format(sim[0].analyzers.drawdown.get_analysis().max.drawdown))\n",
    "    print()"
   ]
  },
  {
   "cell_type": "code",
   "execution_count": 7,
   "metadata": {},
   "outputs": [
    {
     "name": "stdout",
     "output_type": "stream",
     "text": [
      "Running strategy for TUSD/USDT.\n",
      "Final Value: 95648.38750000126\n",
      "PNL %: -4.351612499998737\n",
      "Sharpe Ratio: -2.0449445099871593\n",
      "Max Drawdown: 4.855876699998815\n",
      "\n",
      "Running strategy for PAX/USDT.\n",
      "Final Value: 97294.53559999984\n",
      "PNL %: -2.705464400000153\n",
      "Sharpe Ratio: -3.046278876792461\n",
      "Max Drawdown: 3.5031689000001496\n",
      "\n",
      "Running strategy for USDC/USDT.\n",
      "Final Value: 99287.12670000001\n",
      "PNL %: -0.7128732999999983\n",
      "Sharpe Ratio: -0.4947599793965925\n",
      "Max Drawdown: 1.8941296047523668\n",
      "\n",
      "Running strategy for USDC/TUSD.\n",
      "Final Value: 99041.41519999999\n",
      "PNL %: -0.9585848000000112\n",
      "Sharpe Ratio: None\n",
      "Max Drawdown: 1.078972200000062\n",
      "\n",
      "Running strategy for USDS/TUSD.\n",
      "Final Value: 99565.21840000009\n",
      "PNL %: -0.4347815999999085\n",
      "Sharpe Ratio: None\n",
      "Max Drawdown: 0.5040815999999031\n",
      "\n",
      "Running strategy for USDC/PAX.\n",
      "Final Value: 98593.63210000006\n",
      "PNL %: -1.4063678999999354\n",
      "Sharpe Ratio: None\n",
      "Max Drawdown: 1.4840876943133539\n",
      "\n",
      "Running strategy for USDS/USDT.\n",
      "Final Value: 99214.45770000013\n",
      "PNL %: -0.7855422999998751\n",
      "Sharpe Ratio: None\n",
      "Max Drawdown: 0.78554229999987\n",
      "\n"
     ]
    }
   ],
   "source": [
    "for (name, df) in frames:\n",
    "    run_strategy(name, df)"
   ]
  }
 ],
 "metadata": {
  "kernelspec": {
   "display_name": "Python 3",
   "language": "python",
   "name": "python3"
  },
  "language_info": {
   "codemirror_mode": {
    "name": "ipython",
    "version": 3
   },
   "file_extension": ".py",
   "mimetype": "text/x-python",
   "name": "python",
   "nbconvert_exporter": "python",
   "pygments_lexer": "ipython3",
   "version": "3.7.0"
  }
 },
 "nbformat": 4,
 "nbformat_minor": 2
}
