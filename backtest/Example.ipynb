{
 "cells": [
  {
   "cell_type": "code",
   "execution_count": 1,
   "metadata": {},
   "outputs": [],
   "source": [
    "# Ignore this cell if you have these installed.\n",
    "!pip3 install ccxt\n",
    "!pip3 install pandas\n",
    "!pip3 install backtrader"
   ]
  },
  {
   "cell_type": "code",
   "execution_count": 2,
   "metadata": {},
   "outputs": [],
   "source": [
    "import populator"
   ]
  },
  {
   "cell_type": "code",
   "execution_count": 3,
   "metadata": {},
   "outputs": [],
   "source": [
    "data_dir = 'data'\n",
    "exchanges = ['binance', 'bitmex']\n",
    "pairs = ['BTC/USDT', 'ETH/USDT', 'BTC/USD', 'ETH/USD']\n",
    "tick_size = '1m'\n",
    "start = '2019-03-01T00:00:00Z'\n",
    "num_ticks = 12 * 60"
   ]
  },
  {
   "cell_type": "code",
   "execution_count": 4,
   "metadata": {},
   "outputs": [
    {
     "name": "stdout",
     "output_type": "stream",
     "text": [
      "Downloading price history for BTC/USDT on exchange binance.\n",
      "Scraping for data/binance/BTC-USDT-1m-2019-03-01T00:00:00Z-720.csv succeeded.\n",
      "Downloading price history for ETH/USDT on exchange binance.\n",
      "Scraping for data/binance/ETH-USDT-1m-2019-03-01T00:00:00Z-720.csv succeeded.\n",
      "Exchange binance does not trade BTC/USD.\n",
      "Exchange binance does not trade ETH/USD.\n",
      "Exchange bitmex does not trade BTC/USDT.\n",
      "Exchange bitmex does not trade ETH/USDT.\n",
      "Downloading price history for BTC/USD on exchange bitmex.\n",
      "Scraping for data/bitmex/BTC-USD-1m-2019-03-01T00:00:00Z-720.csv succeeded.\n",
      "Downloading price history for ETH/USD on exchange bitmex.\n",
      "Scraping for data/bitmex/ETH-USD-1m-2019-03-01T00:00:00Z-720.csv succeeded.\n"
     ]
    }
   ],
   "source": [
    "populator.populate(data_dir, exchanges, pairs, tick_size, start, num_ticks)"
   ]
  }
 ],
 "metadata": {
  "kernelspec": {
   "display_name": "Python 3",
   "language": "python",
   "name": "python3"
  },
  "language_info": {
   "codemirror_mode": {
    "name": "ipython",
    "version": 3
   },
   "file_extension": ".py",
   "mimetype": "text/x-python",
   "name": "python",
   "nbconvert_exporter": "python",
   "pygments_lexer": "ipython3",
   "version": "3.7.0"
  }
 },
 "nbformat": 4,
 "nbformat_minor": 2
}
