{
 "cells": [
  {
   "cell_type": "code",
   "execution_count": 3,
   "metadata": {},
   "outputs": [],
   "source": [
    "import populator"
   ]
  },
  {
   "cell_type": "code",
   "execution_count": 6,
   "metadata": {},
   "outputs": [],
   "source": [
    "data_dir = 'data'\n",
    "# Second item in tuple is max batch size for requests.\n",
    "exchanges = [('binance', 1000)]\n",
    "pairs = ['TUSD/USDT']\n",
    "tick_size = '1h'\n",
    "start = '2000-01-01T00:00:00Z'"
   ]
  },
  {
   "cell_type": "code",
   "execution_count": 7,
   "metadata": {},
   "outputs": [
    {
     "name": "stdout",
     "output_type": "stream",
     "text": [
      "Downloading price history for TUSD/USDT on exchange binance.\n",
      "Batch Size: 1000\n",
      "Total Entries: 168334\n",
      "Note: Entries will not exist if they predate exchange history.\n",
      "Entries Processed: 162427\n",
      "Entries Processed: 163427\n",
      "Entries Processed: 164427\n",
      "Entries Processed: 165437\n",
      "Entries Processed: 166437\n",
      "Entries Processed: 167437\n",
      "Entries Processed: 168334\n",
      "Scraping for data/binance/TUSD-USDT-1h-2000-01-01T00-00-00Z-all.csv succeeded.\n"
     ]
    }
   ],
   "source": [
    "populator.populate(data_dir, exchanges, pairs, tick_size, start)"
   ]
  },
  {
   "cell_type": "code",
   "execution_count": 8,
   "metadata": {},
   "outputs": [],
   "source": [
    "df = populator.load_data_as_frame(data_dir, 'binance', 'TUSD/USDT', tick_size, start)"
   ]
  },
  {
   "cell_type": "code",
   "execution_count": 31,
   "metadata": {},
   "outputs": [],
   "source": [
    "import backtrader as bt"
   ]
  },
  {
   "cell_type": "code",
   "execution_count": 32,
   "metadata": {},
   "outputs": [],
   "source": [
    "class StableCoinStrategy(bt.Strategy):\n",
    "    def next(self):\n",
    "        if not self.position:\n",
    "            self.buy(size=self.data.close[0] / (self.data.close[0] + 1.0) * 10000.0)\n",
    "        elif self.data.close[0] > 1.0:\n",
    "            self.sell(size=1000)\n",
    "        else:\n",
    "            self.buy(size=1000)"
   ]
  },
  {
   "cell_type": "code",
   "execution_count": 35,
   "metadata": {},
   "outputs": [],
   "source": [
    "cerebro = bt.Cerebro()\n",
    "cerebro.addstrategy(StableCoinStrategy)\n",
    "data = bt.feeds.PandasData(dataname=df)\n",
    "cerebro.adddata(data)\n",
    "cerebro.addanalyzer(bt.analyzers.SharpeRatio, riskfreerate=0.00, _name='sharpe')\n",
    "cerebro.addanalyzer(bt.analyzers.DrawDown, _name='drawdown')\n",
    "\n",
    "starting_cash = 10**5\n",
    "cerebro.broker.setcash(starting_cash)\n",
    "cerebro.broker.setcommission(commission=0.001)\n",
    "sim = cerebro.run()"
   ]
  },
  {
   "cell_type": "code",
   "execution_count": 36,
   "metadata": {},
   "outputs": [
    {
     "name": "stdout",
     "output_type": "stream",
     "text": [
      "Final Value: 124692.52743611578\n",
      "PNL %: 24.692527436115782\n",
      "Sharpe Ratio: 0.5967983101938887\n",
      "Max Drawdown: 214.4826026548319\n"
     ]
    }
   ],
   "source": [
    "print('Final Value: {}'.format(cerebro.broker.getvalue()))\n",
    "print('PNL %: {}'.format(100.0 * (cerebro.broker.getvalue() / starting_cash) - 100.0))\n",
    "print('Sharpe Ratio: {}'.format(sim[0].analyzers.sharpe.get_analysis()['sharperatio']))\n",
    "print('Max Drawdown: {}'.format(sim[0].analyzers.drawdown.get_analysis().max.drawdown))"
   ]
  }
 ],
 "metadata": {
  "kernelspec": {
   "display_name": "Python 3",
   "language": "python",
   "name": "python3"
  },
  "language_info": {
   "codemirror_mode": {
    "name": "ipython",
    "version": 3
   },
   "file_extension": ".py",
   "mimetype": "text/x-python",
   "name": "python",
   "nbconvert_exporter": "python",
   "pygments_lexer": "ipython3",
   "version": "3.7.0"
  }
 },
 "nbformat": 4,
 "nbformat_minor": 2
}
